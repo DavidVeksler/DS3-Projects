{
 "cells": [
  {
   "cell_type": "markdown",
   "metadata": {},
   "source": [
    "# Keyword modeling with Word2Vec Neutral Network"
   ]
  },
  {
   "cell_type": "markdown",
   "metadata": {},
   "source": [
    "**Potential Applications:** TODO\n",
    "https://stackoverflow.com/questions/8897593/similarity-between-two-text-documents"
   ]
  },
  {
   "cell_type": "code",
   "execution_count": 3,
   "metadata": {
    "collapsed": true
   },
   "outputs": [],
   "source": [
    "import gensim\n",
    "import pandas as pd\n",
    "import json"
   ]
  },
  {
   "cell_type": "code",
   "execution_count": 4,
   "metadata": {
    "collapsed": false
   },
   "outputs": [
    {
     "data": {
      "text/html": [
       "<div>\n",
       "<table border=\"1\" class=\"dataframe\">\n",
       "  <thead>\n",
       "    <tr style=\"text-align: right;\">\n",
       "      <th></th>\n",
       "      <th>Url</th>\n",
       "      <th>Title</th>\n",
       "      <th>Tags</th>\n",
       "      <th>Topic</th>\n",
       "      <th>DatePublished</th>\n",
       "      <th>Abstract</th>\n",
       "      <th>FullText</th>\n",
       "    </tr>\n",
       "    <tr>\n",
       "      <th>ArticleId</th>\n",
       "      <th></th>\n",
       "      <th></th>\n",
       "      <th></th>\n",
       "      <th></th>\n",
       "      <th></th>\n",
       "      <th></th>\n",
       "      <th></th>\n",
       "    </tr>\n",
       "  </thead>\n",
       "  <tbody>\n",
       "    <tr>\n",
       "      <th>12897</th>\n",
       "      <td>/articles/amc-s-halt-and-catch-fire-is-capital...</td>\n",
       "      <td>AMC’s \"Halt and Catch Fire\" Is Capitalism's Fi...</td>\n",
       "      <td>Capitalism,Competition,Property Rights,Entrepr...</td>\n",
       "      <td>Economics</td>\n",
       "      <td>2015-09-02 10:56:24</td>\n",
       "      <td>\"The show is a vibrant look at the early PC in...</td>\n",
       "      <td>\"AMC's Halt and Catch Fire is a brilliant achi...</td>\n",
       "    </tr>\n",
       "  </tbody>\n",
       "</table>\n",
       "</div>"
      ],
      "text/plain": [
       "                                                         Url  \\\n",
       "ArticleId                                                      \n",
       "12897      /articles/amc-s-halt-and-catch-fire-is-capital...   \n",
       "\n",
       "                                                       Title  \\\n",
       "ArticleId                                                      \n",
       "12897      AMC’s \"Halt and Catch Fire\" Is Capitalism's Fi...   \n",
       "\n",
       "                                                        Tags      Topic  \\\n",
       "ArticleId                                                                 \n",
       "12897      Capitalism,Competition,Property Rights,Entrepr...  Economics   \n",
       "\n",
       "                DatePublished  \\\n",
       "ArticleId                       \n",
       "12897     2015-09-02 10:56:24   \n",
       "\n",
       "                                                    Abstract  \\\n",
       "ArticleId                                                      \n",
       "12897      \"The show is a vibrant look at the early PC in...   \n",
       "\n",
       "                                                    FullText  \n",
       "ArticleId                                                     \n",
       "12897      \"AMC's Halt and Catch Fire is a brilliant achi...  "
      ]
     },
     "execution_count": 4,
     "metadata": {},
     "output_type": "execute_result"
    }
   ],
   "source": [
    "import pandas as pd\n",
    "import json\n",
    "\n",
    "articles = pd.read_pickle('ArticleMetadata.pkl')\n",
    "articles.DatePublished = pd.to_datetime(articles.DatePublished)\n",
    "articles.Tags = articles.Tags.map(lambda x: str(x))\n",
    "articles.TagArray = articles.Tags.map(lambda x: x.split(','))\n",
    "articles.TagArray[0]\n",
    "articles.head(1)"
   ]
  },
  {
   "cell_type": "code",
   "execution_count": 5,
   "metadata": {
    "collapsed": false
   },
   "outputs": [
    {
     "name": "stdout",
     "output_type": "stream",
     "text": [
      "hello\n",
      "<class 'str'>\n"
     ]
    }
   ],
   "source": [
    "from html.parser import HTMLParser\n",
    "\n",
    "class MLStripper(HTMLParser):\n",
    "    def __init__(self):\n",
    "        super().__init__()\n",
    "        self.reset()\n",
    "        self.fed = []\n",
    "    def handle_data(self, d):\n",
    "        self.fed.append(d)\n",
    "    def get_data(self):\n",
    "        return ''.join(self.fed)\n",
    "\n",
    "def strip_tags(html):\n",
    "    s = MLStripper()\n",
    "    s.feed(html)\n",
    "    return s.get_data()\n",
    "\n",
    "def StripHtml(html):\n",
    "    return strip_tags(html)\n",
    "\n",
    "print(StripHtml('<b>hello</b>'))\n",
    "print(type(StripHtml('<b>hello</b>')))"
   ]
  },
  {
   "cell_type": "code",
   "execution_count": 6,
   "metadata": {
    "collapsed": true
   },
   "outputs": [],
   "source": [
    "articles.fillna('',inplace=True)\n",
    "articles.reset_index(inplace=True)"
   ]
  },
  {
   "cell_type": "code",
   "execution_count": 7,
   "metadata": {
    "collapsed": false
   },
   "outputs": [
    {
     "data": {
      "text/plain": [
       "(13835, 9)"
      ]
     },
     "execution_count": 7,
     "metadata": {},
     "output_type": "execute_result"
    }
   ],
   "source": [
    "# prepare new field for LDA:    \n",
    "\n",
    "articles[\"RawText\"] = articles.FullText.map(lambda x: StripHtml(x))\n",
    "articles[\"RawText\"] = articles.RawText + ' ' +  articles.Title + ' ' + articles.Tags + ' ' + articles.Abstract  + ' ' + articles.Topic \n",
    "articles[\"RawText\"].head()\n",
    "articles.shape"
   ]
  },
  {
   "cell_type": "code",
   "execution_count": 8,
   "metadata": {
    "collapsed": false
   },
   "outputs": [
    {
     "data": {
      "text/plain": [
       "(13835, 9)"
      ]
     },
     "execution_count": 8,
     "metadata": {},
     "output_type": "execute_result"
    }
   ],
   "source": [
    "articles.dropna(subset=['RawText'],inplace=True)\n",
    "articles.shape"
   ]
  },
  {
   "cell_type": "code",
   "execution_count": 9,
   "metadata": {
    "collapsed": false
   },
   "outputs": [],
   "source": [
    "from sklearn.feature_extraction.text import TfidfVectorizer\n",
    "\n",
    "tfidf = TfidfVectorizer(stop_words='english',min_df=3).fit_transform(articles.RawText.dropna())\n",
    "# no need to normalize, since Vectorizer will return normalized tf-idf\n",
    "pairwise_similarity = tfidf * tfidf.T"
   ]
  },
  {
   "cell_type": "code",
   "execution_count": 8,
   "metadata": {
    "collapsed": false
   },
   "outputs": [
    {
     "data": {
      "text/plain": [
       "0.26055567105626237"
      ]
     },
     "execution_count": 8,
     "metadata": {},
     "output_type": "execute_result"
    }
   ],
   "source": [
    "# a way of comparing 2 articles\n",
    "import nltk, string\n",
    "from sklearn.feature_extraction.text import TfidfVectorizer\n",
    "\n",
    "stemmer = nltk.stem.porter.PorterStemmer()\n",
    "remove_punctuation_map = dict((ord(char), None) for char in string.punctuation)\n",
    "\n",
    "def stem_tokens(tokens):\n",
    "    return [stemmer.stem(item) for item in tokens]\n",
    "\n",
    "'''remove punctuation, lowercase, stem'''\n",
    "def normalize(text):\n",
    "    return stem_tokens(nltk.word_tokenize(text.lower().translate(remove_punctuation_map)))\n",
    "\n",
    "vectorizer = TfidfVectorizer(tokenizer=normalize, stop_words='english')\n",
    "\n",
    "def cosine_sim(text1, text2):\n",
    "    tfidf = vectorizer.fit_transform([text1, text2])\n",
    "    return ((tfidf * tfidf.T).A)[0,1]\n",
    "\n",
    "cosine_sim('a little bird', 'a little bird chirps')\n",
    "cosine_sim('a little bird', 'a little dog barks')\n",
    "cosine_sim(articles.ix[10000].RawText,articles.ix[10634].RawText)"
   ]
  },
  {
   "cell_type": "code",
   "execution_count": 10,
   "metadata": {
    "collapsed": false
   },
   "outputs": [
    {
     "name": "stdout",
     "output_type": "stream",
     "text": [
      "[ 1.          0.02176245  0.01683795 ...,  0.01550311  0.01973996\n",
      "  0.01401568]\n",
      "[   0 4168 3370 3115]\n"
     ]
    }
   ],
   "source": [
    "from sklearn.metrics.pairwise import linear_kernel\n",
    "cosine_similarities = linear_kernel(tfidf[0:1], tfidf).flatten()\n",
    "print(cosine_similarities)\n",
    "related_docs_indices = cosine_similarities.argsort()[:-5:-1]\n",
    "print(related_docs_indices)"
   ]
  },
  {
   "cell_type": "code",
   "execution_count": 11,
   "metadata": {
    "collapsed": false
   },
   "outputs": [
    {
     "data": {
      "text/plain": [
       "array([12975,     1, 13144, 11421])"
      ]
     },
     "execution_count": 11,
     "metadata": {},
     "output_type": "execute_result"
    }
   ],
   "source": [
    "cosine_similarities = linear_kernel(tfidf[1], tfidf).flatten()\n",
    "cosine_similarities\n",
    "related_docs_indices = cosine_similarities.argsort()[:-5:-1]\n",
    "related_docs_indices"
   ]
  },
  {
   "cell_type": "code",
   "execution_count": 25,
   "metadata": {
    "collapsed": false
   },
   "outputs": [],
   "source": [
    "def FindSimiliarArticles(url, tfidf_matrix, articles):\n",
    "    matches = articles.loc[articles['Url']  == url].index.tolist()\n",
    "    originalArticleIndex = int(matches[0])\n",
    "    print(\"original index: %s\" % originalArticleIndex)    \n",
    "    cosine_similarities = linear_kernel(tfidf_matrix[originalArticleIndex], tfidf_matrix).flatten()\n",
    "    print(\"cosine_similarities: %s\" % cosine_similarities)    \n",
    "    related_docs_indices = cosine_similarities.argsort()[:-5:-1]\n",
    "    print('related articles: ' % related_docs_indices)\n",
    "    related_articles = []\n",
    "    [related_articles.append(articles.iloc[index]) for index in related_docs_indices]    \n",
    "    return related_articles"
   ]
  },
  {
   "cell_type": "code",
   "execution_count": 26,
   "metadata": {
    "collapsed": false
   },
   "outputs": [
    {
     "name": "stdout",
     "output_type": "stream",
     "text": [
      "original index: 13795\n",
      "cosine_similarities: [ 0.05772269  0.04216487  0.04971372 ...,  0.00795316  0.03272186  0.024919  ]\n",
      "related articles: \n",
      "[ArticleId                                                   139417\n",
      "Url              /articles/how-america-can-keep-the-entrepreneu...\n",
      "Title              How America Can Keep the Entrepreneurs We Train\n",
      "Tags             Entrepreneurship,Immigration,Business,Higher E...\n",
      "Topic                                                        World\n",
      "DatePublished                                  2016-07-15 13:00:00\n",
      "Abstract         \"Brilliant, talented people are trained at Ame...\n",
      "FullText         \"\\nAmerican colleges and universities attract ...\n",
      "RawText          \"\\nAmerican colleges and universities attract ...\n",
      "Name: 13795, dtype: object, ArticleId                                                   132805\n",
      "Url              /articles/immigrants-are-twice-as-likely-to-st...\n",
      "Title            Immigrants Are Twice as Likely to Start a Busi...\n",
      "Tags             Immigration,Entrepreneurship,Business,Capitali...\n",
      "Topic                                                             \n",
      "DatePublished                                  2016-01-06 08:30:00\n",
      "Abstract         \"Immigrant\" entrepreneurs could kickstart a sl...\n",
      "FullText         \"As 2016 gets underway, presidential candidate...\n",
      "RawText          \"As 2016 gets underway, presidential candidate...\n",
      "Name: 671, dtype: object, ArticleId                                                   108006\n",
      "Url              /articles/why-government-jobs-programs-destroy...\n",
      "Title                    Why Government Jobs Programs Destroy Jobs\n",
      "Tags                                                           nan\n",
      "Topic                                                             \n",
      "DatePublished                                  1987-11-01 00:00:00\n",
      "Abstract                                                      null\n",
      "FullText         \"\\r\\n\\tIn an effort to spur economic developme...\n",
      "RawText          \"\\r\\n\\tIn an effort to spur economic developme...\n",
      "Name: 1076, dtype: object, ArticleId                                                   129584\n",
      "Url              /articles/5-charts-that-show-trumps-immigratio...\n",
      "Title            5 Charts that Show Trump's Immigration Paper I...\n",
      "Tags                                                           nan\n",
      "Topic                                                        World\n",
      "DatePublished                                  2015-08-19 00:00:00\n",
      "Abstract         \"Almost every single thing Trump claims about ...\n",
      "FullText         \"Donald Trump dropped his long-awaited immigra...\n",
      "RawText          \"Donald Trump dropped his long-awaited immigra...\n",
      "Name: 338, dtype: object]\n"
     ]
    }
   ],
   "source": [
    "related = FindSimiliarArticles('/articles/how-america-can-keep-the-entrepreneurs-we-train/',tfidf,articles)\n",
    "print(related)"
   ]
  },
  {
   "cell_type": "code",
   "execution_count": 27,
   "metadata": {
    "collapsed": false
   },
   "outputs": [
    {
     "data": {
      "text/plain": [
       "ArticleId                                                   139417\n",
       "Url              /articles/how-america-can-keep-the-entrepreneu...\n",
       "Title              How America Can Keep the Entrepreneurs We Train\n",
       "Tags             Entrepreneurship,Immigration,Business,Higher E...\n",
       "Topic                                                        World\n",
       "DatePublished                                  2016-07-15 13:00:00\n",
       "Abstract         \"Brilliant, talented people are trained at Ame...\n",
       "FullText         \"\\nAmerican colleges and universities attract ...\n",
       "RawText          \"\\nAmerican colleges and universities attract ...\n",
       "Name: 13795, dtype: object"
      ]
     },
     "execution_count": 27,
     "metadata": {},
     "output_type": "execute_result"
    }
   ],
   "source": [
    "related[0]"
   ]
  },
  {
   "cell_type": "code",
   "execution_count": null,
   "metadata": {
    "collapsed": true
   },
   "outputs": [],
   "source": []
  },
  {
   "cell_type": "code",
   "execution_count": null,
   "metadata": {
    "collapsed": true
   },
   "outputs": [],
   "source": []
  }
 ],
 "metadata": {
  "kernelspec": {
   "display_name": "Python 3",
   "language": "python",
   "name": "python3"
  },
  "language_info": {
   "codemirror_mode": {
    "name": "ipython",
    "version": 3
   },
   "file_extension": ".py",
   "mimetype": "text/x-python",
   "name": "python",
   "nbconvert_exporter": "python",
   "pygments_lexer": "ipython3",
   "version": "3.5.1"
  }
 },
 "nbformat": 4,
 "nbformat_minor": 0
}
