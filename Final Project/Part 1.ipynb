{
 "cells": [
  {
   "cell_type": "markdown",
   "metadata": {},
   "source": [
    "# The Problem"
   ]
  },
  {
   "cell_type": "markdown",
   "metadata": {},
   "source": [
    "FEE.org is the website for FEE - a non-profit educational organization.  FEE.org has about 1 million visits per month.\n",
    "\n",
    "For a for-profit organization, success can be measured in terms of products sold, net revenue, profits, etc.\n",
    "For a non-profit with an educational mission, success is more difficult to quantify.  One superficial method is to track the number of people who visit a web page.  However, a visit to a web page does not indicade how engaged the user is with the contect.  We want to know how engaged the user is with the content - did he learn something knew, sign up for more information, or express interest in an offline event?  \n",
    "\n",
    "We want to know things such as - what content causes users to be engaged?  What kinds of content is most likely to trigger important actions?  Furthermore, can we identify groups of users who have similiar behavior patterns?  For example, students researching a papers, experts who want to deepend their knowledge, potential donors, etc."
   ]
  },
  {
   "cell_type": "markdown",
   "metadata": {},
   "source": [
    "# Data"
   ]
  },
  {
   "cell_type": "markdown",
   "metadata": {},
   "source": [
    "## Datasets \n",
    "Both known and unkown visitors can be tracked.  Known visitors are those who provide their identity as some point - for example, by clicking on a link in an email, or sumitting their email in a form.  Unknown visitors can be tracked using a browser cookie.  In both cases, a profile can be built on each unique users.\n",
    "\n",
    "The data for this analysis will come from Clicky, a web analytics platform.  Clicky currently collects non-identifiable data on users in several formats.  \n",
    "\n",
    "The primary dataset is a set of 50,000 actions such as page views, downloads, and outbound link clicks from 8:30pm to midnight on June 29th.  For each action, information such as IP address, session ID, action type, referal URL, and page title is recorded.\n",
    "\n",
    "The second dataset contains detailed information on 5000 users which details such as the number of actions, physical location, total time on site, etc.\n",
    "\n",
    "The third dataset contains 5000 URLs with a list of tags for each page, including author, topic, and tags.\n",
    "\n",
    "## Key Characteristics\n",
    "\n",
    "* Total number of actions per users.  (73% of users take 1 action)\n",
    "* Bounce rate (>30 seconds on page)\n",
    "* Referer by type (Social media, search, advertising, direct, email)\n",
    "* Content type (article, about (meta) page, fundraising)\n",
    "* Physical location\n",
    "* ?"
   ]
  },
  {
   "cell_type": "markdown",
   "metadata": {},
   "source": [
    "# Hypotheses"
   ]
  },
  {
   "cell_type": "markdown",
   "metadata": {},
   "source": [
    "The goal of this project is to reveal insights about how users engage with content on FEE.org.  We know that 73% of visitors only take one action, and that 25% of them bounce (<30 seconds on page). \n",
    "\n",
    "* Identify characteristcs typical of bounced users versus engaged users\n",
    "* What user attributes lead correlate with higher engagement (refer, location)\n",
    "* Identify personas by clustering common behaviors, using attributes such as referer, # of actions, location, downloads & email signups, etc."
   ]
  },
  {
   "cell_type": "code",
   "execution_count": null,
   "metadata": {
    "collapsed": true
   },
   "outputs": [],
   "source": []
  }
 ],
 "metadata": {
  "kernelspec": {
   "display_name": "Python 3",
   "language": "python",
   "name": "python3"
  },
  "language_info": {
   "codemirror_mode": {
    "name": "ipython",
    "version": 3
   },
   "file_extension": ".py",
   "mimetype": "text/x-python",
   "name": "python",
   "nbconvert_exporter": "python",
   "pygments_lexer": "ipython3",
   "version": "3.5.1"
  }
 },
 "nbformat": 4,
 "nbformat_minor": 0
}
